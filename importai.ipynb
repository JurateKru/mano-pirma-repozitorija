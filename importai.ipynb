{
 "cells": [
  {
   "attachments": {},
   "cell_type": "markdown",
   "metadata": {},
   "source": [
    "##06_projektai_moduliai_importavimas"
   ]
  },
  {
   "attachments": {},
   "cell_type": "markdown",
   "metadata": {},
   "source": [
    "##02_standartiniu_biblioteku_importavimas.md"
   ]
  },
  {
   "cell_type": "code",
   "execution_count": 1,
   "metadata": {},
   "outputs": [
    {
     "name": "stdout",
     "output_type": "stream",
     "text": [
      "['__doc__', '__loader__', '__name__', '__package__', '__spec__', 'acos', 'acosh', 'asin', 'asinh', 'atan', 'atan2', 'atanh', 'cbrt', 'ceil', 'comb', 'copysign', 'cos', 'cosh', 'degrees', 'dist', 'e', 'erf', 'erfc', 'exp', 'exp2', 'expm1', 'fabs', 'factorial', 'floor', 'fmod', 'frexp', 'fsum', 'gamma', 'gcd', 'hypot', 'inf', 'isclose', 'isfinite', 'isinf', 'isnan', 'isqrt', 'lcm', 'ldexp', 'lgamma', 'log', 'log10', 'log1p', 'log2', 'modf', 'nan', 'nextafter', 'perm', 'pi', 'pow', 'prod', 'radians', 'remainder', 'sin', 'sinh', 'sqrt', 'tan', 'tanh', 'tau', 'trunc', 'ulp']\n"
     ]
    }
   ],
   "source": [
    "import math\n",
    "print(dir(math))"
   ]
  },
  {
   "cell_type": "code",
   "execution_count": null,
   "metadata": {},
   "outputs": [],
   "source": []
  },
  {
   "cell_type": "code",
   "execution_count": 38,
   "metadata": {},
   "outputs": [
    {
     "name": "stdout",
     "output_type": "stream",
     "text": [
      "[7, 14, 21, 26, 34, 35, 70, 86, 87, 93]\n"
     ]
    }
   ],
   "source": [
    "# Pirma užduotis\n",
    "# Parašykite funkciją, kuris atspausdina 10 atsitiktinių skaičių nuo 1 iki 100 ir juos išrikiuoja didėjimo tvarka.\n",
    "\n",
    "import random\n",
    "\n",
    "def random_10():\n",
    "    atsitiktiniai_skaiciai = [random.randint(1, 100) for _ in range(10)]\n",
    "    rikiuoti = sorted(atsitiktiniai_skaiciai)\n",
    "    print(rikiuoti)\n",
    "\n",
    "random_10()\n"
   ]
  },
  {
   "cell_type": "code",
   "execution_count": 44,
   "metadata": {},
   "outputs": [
    {
     "name": "stdout",
     "output_type": "stream",
     "text": [
      "Laimejai!\n"
     ]
    }
   ],
   "source": [
    "# Antra užduotis\n",
    "# Sukurkite kauliukų žaidimą, kuris:\n",
    "\n",
    "# Sugeneruotų tris atsitiktinius skaičius nuo 1 iki 6\n",
    "# Jei vienas iš šių skaičių yra 5, atspausdinti „Pralaimėjai...“\n",
    "# Kitu atveju atspausdinti „Laimėjai!“\n",
    "# Patarimas: Naudoti while ciklą\n",
    "\n",
    "import random \n",
    "kauliukai = [random.randint(1, 6) for _ in range (3)]\n",
    "while True:\n",
    "    for skaicius in kauliukai:\n",
    "        if skaicius == 5:\n",
    "            print (\"Laimejai!\")\n",
    "            break\n",
    "    else: \n",
    "        print (\"Pralaimejai\")\n",
    "        break\n",
    "    break"
   ]
  },
  {
   "cell_type": "code",
   "execution_count": 59,
   "metadata": {},
   "outputs": [
    {
     "name": "stdout",
     "output_type": "stream",
     "text": [
      "   September 2023\n",
      "Mo Tu We Th Fr Sa Su\n",
      "             1  2  3\n",
      " 4  5  6  7  8  9 10\n",
      "11 12 13 14 15 16 17\n",
      "18 19 20 21 22 23 24\n",
      "25 26 27 28 29 30\n",
      "\n",
      "Siame menesyje yra savaitgalio dienu: 9\n"
     ]
    }
   ],
   "source": [
    "# Trečia užduotis\n",
    "# Parašykite Python funkciją, kuri priima metus ir mėnesį, o tada atspausdina šio mėnesio kalendorių bei parodo, \n",
    "# kiek savaitgalio dienų (šeštadienių ir sekmadienių) yra tame mėnesyje.\n",
    "\n",
    "import calendar\n",
    "\n",
    "def funkcija(metai, men):\n",
    "    print(calendar.month(metai, men))\n",
    "    sest = len([1 for i in calendar.monthcalendar(metai,men) if i[5] != 0 ])\n",
    "    sekm = len([1 for i in calendar.monthcalendar(metai,men) if i[6] != 0 ])\n",
    "    print(f\"Siame menesyje yra savaitgalio dienu: {sest + sekm}\")\n",
    "funkcija(2023,9)"
   ]
  }
 ],
 "metadata": {
  "kernelspec": {
   "display_name": "venv",
   "language": "python",
   "name": "python3"
  },
  "language_info": {
   "codemirror_mode": {
    "name": "ipython",
    "version": 3
   },
   "file_extension": ".py",
   "mimetype": "text/x-python",
   "name": "python",
   "nbconvert_exporter": "python",
   "pygments_lexer": "ipython3",
   "version": "3.11.3"
  },
  "orig_nbformat": 4
 },
 "nbformat": 4,
 "nbformat_minor": 2
}
