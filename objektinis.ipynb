{
 "cells": [
  {
   "attachments": {},
   "cell_type": "markdown",
   "metadata": {},
   "source": [
    "## objektai ir klases"
   ]
  },
  {
   "cell_type": "code",
   "execution_count": 21,
   "metadata": {},
   "outputs": [
    {
     "name": "stdout",
     "output_type": "stream",
     "text": [
      "Darbuotojas Jurate Kru pareigos: analitikas, atlyginimas: 840\n",
      "Darbuotojas Antanas And pareigos: siuvejas, atlyginimas: 850\n",
      "Darbuotojo pareigos analitikas\n",
      "Darbuotojo atlyginimas 840\n",
      "Jurate\n"
     ]
    }
   ],
   "source": [
    "# class Darbuotojas:\n",
    "#     def __init__(self, vardas, pavarde, pareigos, atlyginimas=840):\n",
    "#         self.vardas = vardas\n",
    "#         self.pavarde = pavarde\n",
    "#         self.pareigos = pareigos\n",
    "#         self.atlyginimas = atlyginimas\n",
    "\n",
    "#     def __str__(self):\n",
    "#         return f'Darbuotojas {self.vardas} {self.pavarde} pareigos: {self.pareigos}, atlyginimas: {self.atlyginimas}'\n",
    "    \n",
    "\n",
    "# pirmas_darbuotojas = Darbuotojas(\"Jurate\", \"Kru\", \"analitikas\")\n",
    "# antras_darbuotojas = Darbuotojas('Antanas', 'And', 'siuvejas', 850)\n",
    "\n",
    "# print(pirmas_darbuotojas)\n",
    "# print(antras_darbuotojas)\n",
    "\n",
    "# print(\"Darbuotojo pareigos\", pirmas_darbuotojas.pareigos)\n",
    "# print(\"Darbuotojo atlyginimas\", pirmas_darbuotojas.atlyginimas)\n",
    "\n",
    "# pirmas_darbuotojas.atlyginimas = 1100\n",
    "\n",
    "# print(pirmas_darbuotojas.vardas)\n"
   ]
  },
  {
   "cell_type": "code",
   "execution_count": 26,
   "metadata": {},
   "outputs": [
    {
     "name": "stdout",
     "output_type": "stream",
     "text": [
      "pika, 12, 5\n",
      "pika, 14, 5\n",
      "pika, 14, 6\n",
      "pika, 14, 2\n"
     ]
    }
   ],
   "source": [
    "class Gyvunai:\n",
    "    def __init__(self, vardas, amzius, svoris):\n",
    "        self.vardas = vardas\n",
    "        self.amzius = amzius\n",
    "        self.svoris = svoris\n",
    "\n",
    "    def __str__(self):\n",
    "        return f\"{self.vardas}, {self.amzius}, {self.svoris}\"\n",
    "\n",
    "    def padidinti_svori(self, kiek):\n",
    "        self.svoris += kiek\n",
    "    \n",
    "    def sumazinti_svori(self, kiek):\n",
    "        self.svoris -= kiek\n",
    "      \n",
    "    def padidinti_amziu(self, kiek):\n",
    "        self.amzius += kiek\n",
    "\n",
    "kate = Gyvunai(vardas ='pika', amzius=12, svoris=5)\n",
    "print(kate)\n",
    "\n",
    "kate.padidinti_amziu(2)\n",
    "print(kate)\n",
    "\n",
    "kate.padidinti_svori(1)\n",
    "print(kate)\n",
    "\n",
    "kate.sumazinti_svori(4)\n",
    "print(kate)\n",
    "    "
   ]
  },
  {
   "attachments": {},
   "cell_type": "markdown",
   "metadata": {},
   "source": [
    "## inkapsuliacija"
   ]
  },
  {
   "cell_type": "markdown",
   "metadata": {},
   "source": []
  },
  {
   "cell_type": "code",
   "execution_count": 49,
   "metadata": {},
   "outputs": [
    {
     "name": "stdout",
     "output_type": "stream",
     "text": [
      "7000.0\n",
      "7500.0\n"
     ]
    }
   ],
   "source": [
    "# Pirma užduotis\n",
    "# - Sukurkite banko sąskaitos klasę, kuri turėtų kintamuosius: saskaitos numeris, savininkas, balansas ir pin kodas. \n",
    "#   Pastarieji du kintamieji turėtų būti privatūs.\n",
    "# - Sukurkite metodą, kuris leistų nuskaityti pinigus nuo sąskaitos, tačiau norint atlikti šį veiksmą reikalingas \n",
    "#   slaptažodis, kuris turėtų būti žinomas tik klasės viduje.\n",
    "# - Padarykite taip, kad būtų galima papildyti sąskaitą.\n",
    "\n",
    "class Banko_saskaita:\n",
    "    def __init__(self, saskaitos_numeris, savininkas, balansas=0.0, pin_kodas=1234):\n",
    "        self.saskaitos_numeris = saskaitos_numeris\n",
    "        self.savininkas = savininkas\n",
    "        self.__balansas = balansas\n",
    "        self.__pin_kodas = pin_kodas\n",
    "\n",
    "    def __str__(self):\n",
    "        return f\"LT{self.saskaitos_numeris} priklauso {self.savininkas}, balansas: {self.__balansas} PIN kodas {self.__pin_kodas}\"\n",
    "\n",
    "    def nuskaityti_pinigus(self, kodas, nuskaitoma_suma):\n",
    "        if self.__pin_kodas == kodas:\n",
    "            self.__balansas = self.__balansas - nuskaitoma_suma\n",
    "            return self.__balansas\n",
    "        else:\n",
    "            return f\"kodas neteisingas\"\n",
    "        \n",
    "    def papildyti_saskaita(self, pildoma_suma):\n",
    "        self.__balansas += pildoma_suma\n",
    "        return self.__balansas\n",
    "    \n",
    "pirma = Banko_saskaita('0000000000000','Jonas',8000.0)\n",
    "\n",
    "print(pirma.nuskaityti_pinigus(1234,1000))\n",
    "print(pirma.papildyti_saskaita(500))\n"
   ]
  },
  {
   "cell_type": "code",
   "execution_count": 80,
   "metadata": {},
   "outputs": [
    {
     "name": "stdout",
     "output_type": "stream",
     "text": [
      "Altroriu sesely\n",
      "Putinas\n",
      "patenkinama\n",
      "380\n",
      "atnaujinta\n",
      "300\n"
     ]
    }
   ],
   "source": [
    "# Antra užduotis\n",
    "# - Sukurkite knygų klasę, kuri turėtų privačius kintamuosius: pavadinimas, autorius, buklė ir puslapių skaičius, \n",
    "#   ir metodus jiems gauti.\n",
    "# - Sukurkite metodą, kuris leistų pakeisti knygos būklę, kur galimos reikšmės yra tik 'patenkinama', \n",
    "#   'prasta', 'atnaujinta', 'sugadinta'.\n",
    "# - Sukurkite metodą, kuris leistų sumažinti knygos puslapių skaičių, naudodamas sukurtą vidinį privatų metodą, \n",
    "#   perrašantį tą reikšmę. Turi neigi padidinti puslapių skaičiaus.\n",
    "\n",
    "class Knygos:\n",
    "    def __init__(self, pavadinimas, autorius, bukle, psl_sk):\n",
    "        self.__pavadinimas = pavadinimas\n",
    "        self.__autorius = autorius\n",
    "        self.__bukle = bukle\n",
    "        self.__psl_sk = psl_sk\n",
    "\n",
    "    # def __str__(self):\n",
    "    #     return f\"Knygos pavadinimas: {self.pavadinimas}, knygos autorius {self.autorius} jos bukle yra {self.bukle} puslpiai {self.psl_sk}\"\n",
    "    \n",
    "    def gauti_pavadinima(self):\n",
    "        return self.__pavadinimas\n",
    "    \n",
    "    def gauti_autoriu(self):\n",
    "        return self.__autorius\n",
    "    \n",
    "    def gauti_bukle(self):\n",
    "        return self.__bukle\n",
    "    \n",
    "    def gauti_puslapius(self):\n",
    "        return self.__psl_sk\n",
    "    \n",
    "    def pakeisti_bukle(self, nauja_bukle):\n",
    "        if nauja_bukle in ('patenkinama', 'prasta', 'atnaujinta', 'sugadinta'):\n",
    "            self.__bukle = nauja_bukle\n",
    "            return self.__bukle\n",
    "        else:\n",
    "            return f\"bukle nekeiciama\"\n",
    "        \n",
    "    def __mazinti_skaiciu(self, kiek_mazinti_psl):\n",
    "        self.__psl_sk = kiek_mazinti_psl\n",
    "\n",
    "    def liko_psl(self, kiek_mazinti_psl):\n",
    "        if self.__psl_sk >=  kiek_mazinti_psl:\n",
    "            self.__mazinti_skaiciu(self.__psl_sk - kiek_mazinti_psl)\n",
    "        return self.__psl_sk\n",
    "\n",
    "        \n",
    "knyga = Knygos('Altroriu sesely', 'Putinas', 'patenkinama', 380)   \n",
    "\n",
    "print(knyga.gauti_pavadinima())   \n",
    "print(knyga.gauti_autoriu())\n",
    "print(knyga.gauti_bukle())\n",
    "print(knyga.gauti_puslapius())\n",
    "print(knyga.pakeisti_bukle('atnaujinta'))\n",
    "print(knyga.liko_psl(80))"
   ]
  },
  {
   "attachments": {},
   "cell_type": "markdown",
   "metadata": {},
   "source": [
    "## Paveldejimas"
   ]
  },
  {
   "cell_type": "code",
   "execution_count": 103,
   "metadata": {},
   "outputs": [
    {
     "name": "stdout",
     "output_type": "stream",
     "text": [
      "raine, pilka, 12\n",
      "///\n",
      "pika, ruda, 1 mur sokt i medi\n",
      "///\n",
      "Aras, auksinis, 2 au urgzti\n"
     ]
    }
   ],
   "source": [
    "# Pirma užduotis\n",
    "# - Sukurkite klasę \"Gyvunas\" ir klases \"Kate\" ir \"Suo\", kurios paveldi tėvų klasės metodus.\n",
    "# - Kiekviena paveldinti klasė turi turėti savo unikalų \"balsas\" ir \"judeti\" metodą.\n",
    "#  -Sukurkite kelis skirtingoms klasėms priklausančius objektus, priskirkite jiems vardus ir iškvieskite jų metodus.\n",
    "\n",
    "class Gyvunas():\n",
    "   def __init__(self, vardas, splava, amzius):\n",
    "      self.vardas = vardas\n",
    "      self.spalva = splava\n",
    "      self.amzius = amzius\n",
    "\n",
    "   def __str__(self):\n",
    "      return f\"{self.vardas}, {self.spalva}, {self.amzius}\"\n",
    "   \n",
    "   def balsas():\n",
    "      pass\n",
    "\n",
    "   def judeti():\n",
    "      pass\n",
    "    \n",
    "class Kate(Gyvunas):\n",
    "\n",
    "   def balsas(self):\n",
    "      return f'mur'\n",
    "     \n",
    "   def judeti(self):\n",
    "      return f'sokt i medi'\n",
    "       \n",
    "class Suo(Gyvunas):\n",
    "     \n",
    "   def balsas(self):\n",
    "      return f'au'\n",
    "     \n",
    "   def judeti(self):\n",
    "      return f'urgzti'\n",
    "   \n",
    "vista = Gyvunas('raine', 'pilka', 12)\n",
    "siamo = Kate('pika', 'ruda', 1)\n",
    "retriveris = Suo('Aras', 'auksinis', 2)\n",
    "\n",
    "print(vista)\n",
    "print(\"///\")\n",
    "print(siamo, siamo.balsas(), siamo.judeti())\n",
    "print(\"///\")\n",
    "print(retriveris, retriveris.balsas(), retriveris.judeti())"
   ]
  },
  {
   "cell_type": "code",
   "execution_count": 105,
   "metadata": {},
   "outputs": [
    {
     "name": "stdout",
     "output_type": "stream",
     "text": [
      "True\n",
      "True\n",
      "True\n",
      "///\n",
      "False\n",
      "True\n",
      "False\n",
      "///\n",
      "False\n",
      "False\n",
      "True\n"
     ]
    }
   ],
   "source": [
    "print(isinstance(vista, Gyvunas))\n",
    "print(isinstance(siamo, Gyvunas))\n",
    "print(isinstance(retriveris, Gyvunas))\n",
    "print(\"///\")\n",
    "print(isinstance(vista, Kate))\n",
    "print(isinstance(siamo, Kate))\n",
    "print(isinstance(retriveris, Kate))\n",
    "print(\"///\")\n",
    "print(isinstance(vista, Suo))\n",
    "print(isinstance(siamo, Suo))\n",
    "print(isinstance(retriveris, Suo))"
   ]
  },
  {
   "attachments": {},
   "cell_type": "markdown",
   "metadata": {},
   "source": [
    "## abstraction\n"
   ]
  },
  {
   "cell_type": "code",
   "execution_count": 167,
   "metadata": {},
   "outputs": [
    {
     "name": "stdout",
     "output_type": "stream",
     "text": [
      "Baseino talpa: 500 Dabartinis kiekis: 200\n",
      "Baseino kiekis 220\n",
      "Sumazintas kiekis 205\n"
     ]
    }
   ],
   "source": [
    "# Pirma užduotis\n",
    "# - Parašykite klasę \"Baseinas\", kuri saugo informaciją apie vandens talpą ir dabartinį kiekį baseine.\n",
    "# - Klasė turi turėti metodus vandens papildymui ir nuleidimui bei esamo vandens kiekio patikrinimui. \n",
    "#   Vandens kiekio keitimui panaudokite abstraktų metodą.\n",
    "# - Sukurkite objektą ir kelis kartus iškvieskite klasės metodus.\n",
    "\n",
    "class Baseinas():\n",
    "    def __init__(self, talpa, dabartinis_kiekis):\n",
    "      self.talpa = talpa\n",
    "      self.dabartinis_kiekis = dabartinis_kiekis\n",
    "    \n",
    "    def __keisti_kieki(self, naujas_kiekis):\n",
    "      if naujas_kiekis <= self.talpa and naujas_kiekis >= 0:\n",
    "        self.dabartinis_kiekis = naujas_kiekis    \n",
    "    \n",
    "    def didinti_kieki(self, keiciamas_kiekis):\n",
    "      self.__keisti_kieki(self.dabartinis_kiekis + abs(keiciamas_kiekis))\n",
    "      return self.dabartinis_kiekis\n",
    "\n",
    "    def mazinti_kieki(self, keiciamas_kiekis):\n",
    "      self.__keisti_kieki(self.dabartinis_kiekis - abs(keiciamas_kiekis))\n",
    "      return self.dabartinis_kiekis\n",
    "\n",
    "vichy = Baseinas(500, 200)\n",
    "\n",
    "print(f\"Baseino talpa: {vichy.talpa} Dabartinis kiekis: {vichy.dabartinis_kiekis}\")\n",
    "print(f\"Baseino kiekis {vichy.didinti_kieki(20)}\")\n",
    "print(f\"Sumazintas kiekis {vichy.mazinti_kieki(15)}\")\n",
    "\n",
    "         \n",
    "       \n",
    "     "
   ]
  },
  {
   "cell_type": "code",
   "execution_count": 127,
   "metadata": {},
   "outputs": [
    {
     "name": "stdout",
     "output_type": "stream",
     "text": [
      "Volkswagen Golf 2023 pilka\n",
      "stoviu\n",
      "važiuoju 10 km/h greičiu\n",
      "važiuoju 20 km/h greičiu\n",
      "važiuoju 40 km/h greičiu\n",
      "važiuoju 200 km/h greičiu\n",
      "važiuoju 100 km/h greičiu\n",
      "važiuoju 50 km/h greičiu\n",
      "stoviu\n",
      "važiuoju 10 km/h greičiu atgal\n",
      "stoviu\n"
     ]
    }
   ],
   "source": [
    "##pavyzdys\n",
    "class Automobilis:\n",
    "    def __init__(self, marke, modelis, metai=2023, spalva='pilka'):\n",
    "        self.marke = marke\n",
    "        self.modelis = modelis\n",
    "        self.metai = metai\n",
    "        self.spalva = spalva\n",
    "        self.max_greitis = 200\n",
    "        self.__greitis = 0\n",
    "\n",
    "    # šį privatų abstraktų metodą panaudosime keliose vietose\n",
    "    def __keisti_greiti(self, greitis):\n",
    "        if greitis > self.max_greitis:\n",
    "            greitis = self.max_greitis\n",
    "        if greitis < -10:\n",
    "            greitis = -10\n",
    "        self.__greitis = greitis\n",
    "        return greitis\n",
    "\n",
    "    # šį viešą abstraktų metodą irgi panaudosime keliose vietose\n",
    "    def vaziuoti(self):\n",
    "        greitis = self.__greitis\n",
    "        if greitis > 0:\n",
    "            print(f\"važiuoju {self.__greitis} km/h greičiu\")\n",
    "        elif greitis < 0:\n",
    "            print(f\"važiuoju {abs(self.__greitis)} km/h greičiu atgal\")\n",
    "        else:\n",
    "            print(\"stoviu\")\n",
    "\n",
    "    def didinti_greiti(self, pagreitis=10):\n",
    "        # panaudojame privatų metodą maksimalaus greičio ribojimui\n",
    "        self.__keisti_greiti(self.__greitis + pagreitis)\n",
    "        # panaudojame vieša metodą važiavimo situacijai išvesti\n",
    "        self.vaziuoti()\n",
    "\n",
    "    def mazinti_greiti(self, pagreitis=10):\n",
    "        # panaudojame privatų metodą maksimalaus greičio ribojimui\n",
    "        self.__keisti_greiti(self.__greitis - pagreitis)\n",
    "        # panaudojame vieša metodą važiavimo situacijai išvesti\n",
    "        self.vaziuoti()\n",
    "    \n",
    "\n",
    "guolis = Automobilis(\"Volkswagen\", \"Golf\")\n",
    "print(guolis.marke, guolis.modelis, guolis.metai, guolis.spalva)\n",
    "guolis.vaziuoti()\n",
    "guolis.didinti_greiti()\n",
    "guolis.didinti_greiti()\n",
    "guolis.didinti_greiti(20)\n",
    "guolis.didinti_greiti(170)\n",
    "guolis.mazinti_greiti(100)\n",
    "guolis.mazinti_greiti(50)\n",
    "guolis.mazinti_greiti(50)\n",
    "guolis.mazinti_greiti()\n",
    "guolis.didinti_greiti()"
   ]
  },
  {
   "attachments": {},
   "cell_type": "markdown",
   "metadata": {},
   "source": [
    "## polimorfizmas"
   ]
  },
  {
   "cell_type": "code",
   "execution_count": 1,
   "metadata": {},
   "outputs": [
    {
     "name": "stdout",
     "output_type": "stream",
     "text": [
      "Darbuotojas: Petras Petraitis uzdirba 2000 EUR\n",
      "Darbuotojas: Antanas Ant uzdirba 5000 EUR\n",
      "Darbuotojas: Andrius Andraitis uzdirba 4000 EUR\n",
      "Premija: 400 €\n"
     ]
    }
   ],
   "source": [
    "# Pirma užduotis\n",
    "# - Sukurkite darbuotojų klasę su savybėmis vardas, pavarde ir atlyginimas, kuri turėtų metodą atspausdinantį darbuotojo informaciją.\n",
    "# - Sukurkite administratoriaus klasę, kuri paveldėtų savybes iš darbuotojo klasės.\n",
    "# - Sukurkite vadovo klasę, kuri paveldėtų savybes iš darbuotojo klasės ir turėtų papildomą savybę \"premija\" bei metodą, \n",
    "#    kuris atspausdins darbuotojo informaciją.\n",
    "# - Sukurkite kelis kiekvienos klasės objektus ir iškvieskite informacijos spausdinimo metodą.\n",
    "\n",
    "class Darbuotojai:\n",
    "    def __init__(self, vardas, pavarde, atlyginimas):\n",
    "        self.vardas = vardas\n",
    "        self.pavarde = pavarde\n",
    "        self.atlyginimas = atlyginimas\n",
    "\n",
    "    def darbuotojo_info(self):\n",
    "        print(f\"Darbuotojas: {self.vardas} {self.pavarde} uzdirba {self.atlyginimas} EUR\")\n",
    "  \n",
    "class Adminas(Darbuotojai):\n",
    "    pass\n",
    "\n",
    "class Vadovas(Darbuotojai):\n",
    "    def __init__(self, vardas, pavarde, atlyginimas=2000, premija=0):\n",
    "        super().__init__(vardas, pavarde, atlyginimas)\n",
    "        self.premija = premija\n",
    "\n",
    "    def info(self):\n",
    "        super().darbuotojo_info()\n",
    "        print(f'Premija: {self.premija} €')\n",
    "\n",
    "pirmas = Darbuotojai(\"Petras\", \"Petraitis\", 2000)\n",
    "antras = Adminas(\"Antanas\", \"Ant\", 5000)\n",
    "trecias = Vadovas(\"Andrius\", \"Andraitis\", 4000, 400)\n",
    "\n",
    "pirmas.darbuotojo_info()\n",
    "antras.darbuotojo_info()\n",
    "trecias.info()\n",
    "\n"
   ]
  },
  {
   "cell_type": "code",
   "execution_count": 17,
   "metadata": {},
   "outputs": [
    {
     "name": "stdout",
     "output_type": "stream",
     "text": [
      "Au A6: 2019 metai, spalva balta\n",
      "BM X5: 2021 metai, spalva pilka\n",
      "Volksw Golf: 2023 metai, spalva pilka\n"
     ]
    }
   ],
   "source": [
    "class Automobilis:\n",
    "    def __init__(self, marke, modelis, metai=2023, spalva='pilka'):\n",
    "        self.marke = marke\n",
    "        self.modelis = modelis\n",
    "        self.metai = metai\n",
    "        self.spalva = spalva\n",
    "\n",
    "    def __str__(self):\n",
    "        return f'{self.marke} {self.modelis}: {self.metai} metai, spalva {self.spalva}'\n",
    "\n",
    "automobiliai = []\n",
    "\n",
    "pirmas_automobilis = Automobilis('Au', 'A6', 2019, 'balta')\n",
    "antras_automobilis = Automobilis(\"BM\", \"X5\", 2021)\n",
    "ketvirtas_automobilis = Automobilis('Volksw', 'Golf')\n",
    "\n",
    "automobiliai.append(pirmas_automobilis)\n",
    "automobiliai.append(antras_automobilis)\n",
    "automobiliai.append(ketvirtas_automobilis)\n",
    "\n",
    "for automobilis in automobiliai:\n",
    "    print(automobilis)"
   ]
  }
 ],
 "metadata": {
  "kernelspec": {
   "display_name": "venv",
   "language": "python",
   "name": "python3"
  },
  "language_info": {
   "codemirror_mode": {
    "name": "ipython",
    "version": 3
   },
   "file_extension": ".py",
   "mimetype": "text/x-python",
   "name": "python",
   "nbconvert_exporter": "python",
   "pygments_lexer": "ipython3",
   "version": "3.11.3"
  },
  "orig_nbformat": 4
 },
 "nbformat": 4,
 "nbformat_minor": 2
}
