{
 "cells": [
  {
   "cell_type": "code",
   "execution_count": 1,
   "metadata": {},
   "outputs": [
    {
     "name": "stdout",
     "output_type": "stream",
     "text": [
      "{'pika': 2, 'molis': 3, 'pilkis': 5}\n"
     ]
    }
   ],
   "source": [
    "zodynas = {'pika' : 2,'molis' : 3, 'pilkis' : 5}\n",
    "print(zodynas)"
   ]
  },
  {
   "cell_type": "code",
   "execution_count": 4,
   "metadata": {},
   "outputs": [
    {
     "name": "stdout",
     "output_type": "stream",
     "text": [
      "2\n"
     ]
    }
   ],
   "source": [
    "print(zodynas['pika'])"
   ]
  },
  {
   "cell_type": "code",
   "execution_count": 5,
   "metadata": {},
   "outputs": [
    {
     "name": "stdout",
     "output_type": "stream",
     "text": [
      "{'pika': 2, 'molis': 3, 'pilkis': 5, 'dina': 6}\n"
     ]
    }
   ],
   "source": [
    "zodynas['dina'] = 6\n",
    "print(zodynas)"
   ]
  },
  {
   "cell_type": "code",
   "execution_count": 6,
   "metadata": {},
   "outputs": [
    {
     "name": "stdout",
     "output_type": "stream",
     "text": [
      "{'pika': 2, 'molis': 3, 'pilkis': 5, 'dina': 10}\n"
     ]
    }
   ],
   "source": [
    "zodynas['dina'] = 10\n",
    "print(zodynas)"
   ]
  },
  {
   "cell_type": "code",
   "execution_count": 7,
   "metadata": {},
   "outputs": [
    {
     "name": "stdout",
     "output_type": "stream",
     "text": [
      "{'pika': 2, 'pilkis': 5, 'dina': 10}\n"
     ]
    }
   ],
   "source": [
    "del zodynas['molis']\n",
    "print(zodynas)"
   ]
  },
  {
   "cell_type": "code",
   "execution_count": 15,
   "metadata": {},
   "outputs": [
    {
     "name": "stdout",
     "output_type": "stream",
     "text": [
      "['pika', 'pilkis', 'dina']\n",
      "[2, 5, 10]\n",
      "[('pika', 2), ('pilkis', 5), ('dina', 10)]\n",
      "\n",
      "2\n"
     ]
    }
   ],
   "source": [
    "vardai = zodynas.keys()\n",
    "metai = zodynas.values()\n",
    "print(list(vardai))\n",
    "print(list(metai))\n",
    "\n",
    "sarasas = zodynas.items()\n",
    "print(list(sarasas))\n",
    "print()\n",
    "print(zodynas.get('pika'))"
   ]
  },
  {
   "cell_type": "code",
   "execution_count": 16,
   "metadata": {},
   "outputs": [
    {
     "name": "stdout",
     "output_type": "stream",
     "text": [
      "1\n",
      "2\n",
      "4\n",
      "5\n"
     ]
    }
   ],
   "source": [
    "skaiciai = [1, 2, 3, 4, 5]\n",
    "\n",
    "for skaicius in skaiciai:\n",
    "    if skaicius == 3:\n",
    "        continue\n",
    "    print(skaicius)"
   ]
  }
 ],
 "metadata": {
  "kernelspec": {
   "display_name": "venv",
   "language": "python",
   "name": "python3"
  },
  "language_info": {
   "codemirror_mode": {
    "name": "ipython",
    "version": 3
   },
   "file_extension": ".py",
   "mimetype": "text/x-python",
   "name": "python",
   "nbconvert_exporter": "python",
   "pygments_lexer": "ipython3",
   "version": "3.11.3"
  },
  "orig_nbformat": 4
 },
 "nbformat": 4,
 "nbformat_minor": 2
}
