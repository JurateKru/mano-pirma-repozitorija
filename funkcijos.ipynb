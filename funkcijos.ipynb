{
 "cells": [
  {
   "cell_type": "code",
   "execution_count": 101,
   "metadata": {},
   "outputs": [
    {
     "name": "stdout",
     "output_type": "stream",
     "text": [
      "skaicius yra lyginis\n"
     ]
    }
   ],
   "source": [
    "# pirma uzduotis\n",
    "def lyginis_nelyginis(skaicius):\n",
    "    if skaicius % 2 == 0:\n",
    "       print(\"skaicius yra lyginis\")\n",
    "    else:\n",
    "       print(\"skaicius yra nelyginis\")\n",
    "\n",
    "lyginis_nelyginis(10)\n"
   ]
  },
  {
   "cell_type": "code",
   "execution_count": 102,
   "metadata": {},
   "outputs": [
    {
     "name": "stdout",
     "output_type": "stream",
     "text": [
      "skaicius yra neigiamas\n"
     ]
    }
   ],
   "source": [
    "# antra uzduotis\n",
    "def ar_teigiamas(skaicius):\n",
    "    if skaicius > 0:\n",
    "       print(\"skaicius yra teigiamas\")\n",
    "    else:\n",
    "       print(\"skaicius yra neigiamas\")\n",
    "\n",
    "ar_teigiamas(-6)"
   ]
  },
  {
   "cell_type": "code",
   "execution_count": 117,
   "metadata": {},
   "outputs": [
    {
     "name": "stdout",
     "output_type": "stream",
     "text": [
      "5 yra daugiau nei 3\n"
     ]
    }
   ],
   "source": [
    "# trecia uzduotis\n",
    "def ar_daugiau_riba(skaicius, riba):\n",
    "    if skaicius > riba:\n",
    "        print(f\"{skaicius} yra daugiau nei {riba}\")\n",
    "    elif skaicius < riba:\n",
    "        print(f\"{skaicius} yra maziau nei {riba}\")\n",
    "    elif skaicius == riba:\n",
    "        print(f\"{skaicius} yra lygus {riba}\") \n",
    "\n",
    "ar_daugiau_riba(5,3)"
   ]
  },
  {
   "cell_type": "code",
   "execution_count": 104,
   "metadata": {},
   "outputs": [],
   "source": [
    "# # return"
   ]
  },
  {
   "cell_type": "code",
   "execution_count": 105,
   "metadata": {},
   "outputs": [
    {
     "data": {
      "text/plain": [
       "'aliw'"
      ]
     },
     "execution_count": 105,
     "metadata": {},
     "output_type": "execute_result"
    }
   ],
   "source": [
    "# 1 uzduotis\n",
    "def sarasas_atvirkscias(sarasas):\n",
    "    return sarasas[::-1]\n",
    "\n",
    "sarasas_atvirkscias(\"wila\")\n"
   ]
  },
  {
   "cell_type": "code",
   "execution_count": 106,
   "metadata": {},
   "outputs": [
    {
     "data": {
      "text/plain": [
       "5.0"
      ]
     },
     "execution_count": 106,
     "metadata": {},
     "output_type": "execute_result"
    }
   ],
   "source": [
    "# 2 uzduotis\n",
    "def trikampipo_plotas(a, h):\n",
    "    return a * h / 2\n",
    "\n",
    "trikampipo_plotas(2,5)\n",
    "\n"
   ]
  },
  {
   "cell_type": "code",
   "execution_count": 107,
   "metadata": {},
   "outputs": [
    {
     "name": "stdout",
     "output_type": "stream",
     "text": [
      "['kate', 'alus']\n"
     ]
    }
   ],
   "source": [
    "#  3 uzduotis\n",
    "\n",
    "def skaiciai(zodziai, ilgis):\n",
    "    nurodyto_ilgio = []\n",
    "    for zodis in zodziai:\n",
    "        if len(zodis) == ilgis:\n",
    "            nurodyto_ilgio.append(zodis)\n",
    "    return nurodyto_ilgio\n",
    "\n",
    "pateikti = ['vakaras', 'kate', 'suo', 'alus']\n",
    "raide = 4\n",
    "result = skaiciai(pateikti, raide)\n",
    "print(result)\n"
   ]
  },
  {
   "cell_type": "code",
   "execution_count": 108,
   "metadata": {},
   "outputs": [
    {
     "name": "stdout",
     "output_type": "stream",
     "text": [
      "5\n"
     ]
    }
   ],
   "source": [
    "# 4 uzduotis\n",
    "def didziausias_skaicius(skaiciai):\n",
    "    did_skaicius = skaiciai[0]\n",
    "    for skaicius in skaiciai:\n",
    "        if skaicius > did_skaicius:\n",
    "            did_skaicius = skaicius\n",
    "    return did_skaicius\n",
    "\n",
    "skaiciai = [2, -4, 5, -1, -2]\n",
    "result = didziausias_skaicius(skaiciai)\n",
    "print(result)"
   ]
  },
  {
   "cell_type": "code",
   "execution_count": 109,
   "metadata": {},
   "outputs": [
    {
     "name": "stdout",
     "output_type": "stream",
     "text": [
      "['vakaras']\n"
     ]
    }
   ],
   "source": [
    "# 5 uzduotis\n",
    "\n",
    "def isrenka_zodzius(zodziai, raide):\n",
    "    nurodyto_ilgio = []\n",
    "    for zodis in zodziai:\n",
    "        if zodis[0] == raide:\n",
    "            nurodyto_ilgio.append(zodis)\n",
    "    return nurodyto_ilgio\n",
    "\n",
    "pateikti = ['vakaras', 'kate', 'suo', 'alus']\n",
    "raide = 'v'\n",
    "result = isrenka_zodzius(pateikti, raide)\n",
    "print(result)"
   ]
  },
  {
   "cell_type": "code",
   "execution_count": 110,
   "metadata": {},
   "outputs": [
    {
     "name": "stdout",
     "output_type": "stream",
     "text": [
      "['ateina', 'siltas', 'ir', 'sauletas']\n"
     ]
    }
   ],
   "source": [
    "# 6 uzduotis\n",
    "def rinkti_zodzius(sakinys):\n",
    "    zodziai = sakinys.split()\n",
    "    nurodyto_ilgio = []\n",
    "    for zodis in zodziai:\n",
    "        zodzio_ilgis = len(zodis)\n",
    "        if zodzio_ilgis %2 == 0:\n",
    "            nurodyto_ilgio.append(zodis)\n",
    "    return nurodyto_ilgio\n",
    "\n",
    "pateikta = \"Jau ateina siltas ir sauletas pavasaris\"\n",
    "result = rinkti_zodzius(pateikta)\n",
    "print(result)\n"
   ]
  },
  {
   "cell_type": "code",
   "execution_count": 111,
   "metadata": {},
   "outputs": [],
   "source": [
    "## Nebutini argumentai"
   ]
  },
  {
   "cell_type": "code",
   "execution_count": 112,
   "metadata": {},
   "outputs": [
    {
     "name": "stdout",
     "output_type": "stream",
     "text": [
      "28.26\n"
     ]
    }
   ],
   "source": [
    "# 1 uzduotis \n",
    "\n",
    "def apskritimo_plotas(spindulys, pi=3.14):\n",
    "    plotas = pi * spindulys**2\n",
    "    return plotas \n",
    "\n",
    "print(apskritimo_plotas(3))"
   ]
  },
  {
   "cell_type": "code",
   "execution_count": 113,
   "metadata": {},
   "outputs": [
    {
     "name": "stdout",
     "output_type": "stream",
     "text": [
      "{'atstumas': 360, 'Sanaudos': 28.8, 'islaidos': 46.080000000000005}\n"
     ]
    }
   ],
   "source": [
    "# 2 uzduotis\n",
    "\n",
    "def keliones_informacija(keliones_trukme, greitis,vartojimas=8, kuro_kaina=1.6):\n",
    "    nuvažiuotas_atstumas = keliones_trukme * greitis\n",
    "    sanaudos = nuvažiuotas_atstumas * vartojimas / 100\n",
    "    islaidos = sanaudos * kuro_kaina \n",
    "    return {\n",
    "        'atstumas' : nuvažiuotas_atstumas,\n",
    "        'Sanaudos' : sanaudos,\n",
    "        'islaidos' : islaidos\n",
    "\n",
    "    }\n",
    "\n",
    "print(keliones_informacija(6,60))"
   ]
  },
  {
   "cell_type": "code",
   "execution_count": 114,
   "metadata": {},
   "outputs": [],
   "source": [
    "## neriboti argumetnai"
   ]
  },
  {
   "cell_type": "code",
   "execution_count": 119,
   "metadata": {},
   "outputs": [
    {
     "name": "stdout",
     "output_type": "stream",
     "text": [
      "9\n"
     ]
    }
   ],
   "source": [
    "# 1 uzduotis\n",
    "\n",
    "def didziausia_reiksme(*args):\n",
    "    didziausias = args[0]\n",
    "    for arg in args:\n",
    "        if arg > didziausias:\n",
    "            didziausias = arg\n",
    "    return didziausias\n",
    "\n",
    "print(didziausia_reiksme(1,5,6,8,9))\n"
   ]
  },
  {
   "cell_type": "code",
   "execution_count": 130,
   "metadata": {},
   "outputs": [
    {
     "name": "stdout",
     "output_type": "stream",
     "text": [
      "{'vardas': 'Jonas', 'amzius': 30, 'miestas': 'Vilnius'}\n"
     ]
    }
   ],
   "source": [
    "# 2 uzduotis\n",
    "\n",
    "def raktai(**kwargs):\n",
    "    nurodyti_raktai = {}\n",
    "    for key in kwargs:\n",
    "        if key in [\"vardas\", \"amzius\", \"miestas\"]:\n",
    "            nurodyti_raktai[key] = kwargs[key]\n",
    "    return nurodyti_raktai\n",
    "        \n",
    "    \n",
    "\n",
    "print(raktai(vardas=\"Jonas\", amzius=30, miestas=\"Vilnius\")) "
   ]
  },
  {
   "cell_type": "code",
   "execution_count": 134,
   "metadata": {},
   "outputs": [
    {
     "name": "stdout",
     "output_type": "stream",
     "text": [
      "vardas : Jonas\n",
      "miestas : Vilnius\n",
      "amzius : 30\n",
      "linksmas\n",
      "draugiškas\n",
      "drąsus\n"
     ]
    }
   ],
   "source": [
    "# 3 uzduotis\n",
    "\n",
    "def sujungti_i_viena(vardas, *args, **kwargs):\n",
    "    print(f\"vardas : {vardas}\")\n",
    "    for key, value in kwargs.items():\n",
    "        print(f\"{key} : {value}\")\n",
    "    for arg in args:\n",
    "        print(arg)\n",
    "\n",
    "sujungti_i_viena(\"Jonas\", \"linksmas\", \"draugiškas\", \"drąsus\", miestas=\"Vilnius\", amzius=30)  "
   ]
  },
  {
   "cell_type": "code",
   "execution_count": null,
   "metadata": {},
   "outputs": [],
   "source": [
    "## anonimines funkcijos"
   ]
  },
  {
   "cell_type": "code",
   "execution_count": null,
   "metadata": {},
   "outputs": [
    {
     "name": "stdout",
     "output_type": "stream",
     "text": [
      "[7, 8, 9, 10]\n"
     ]
    }
   ],
   "source": [
    "#1 uzduotis\n",
    "\n",
    "skaiciai = [1, 2, 3, 4, 5, 6, 7, 8, 9, 10]\n",
    "didesni_10 = list(filter( lambda x : x > 6, skaiciai))\n",
    "print(didesni_10)"
   ]
  },
  {
   "cell_type": "code",
   "execution_count": 147,
   "metadata": {},
   "outputs": [
    {
     "name": "stdout",
     "output_type": "stream",
     "text": [
      "4.333333333333333\n"
     ]
    }
   ],
   "source": [
    "# 2 uzduotis\n",
    "skaiciai = [8,5,2,6,4,1]\n",
    "vidurkis = lambda x : sum(x) / len(x)\n",
    "\n",
    "print(vidurkis(skaiciai))"
   ]
  },
  {
   "cell_type": "code",
   "execution_count": 155,
   "metadata": {},
   "outputs": [
    {
     "name": "stdout",
     "output_type": "stream",
     "text": [
      "6\n"
     ]
    }
   ],
   "source": [
    "#  3 uzduotis\n",
    "\n",
    "didziausias = lambda x, y, z: max(x,y,z) \n",
    "\n",
    "print(didziausias(5,6,1))"
   ]
  }
 ],
 "metadata": {
  "kernelspec": {
   "display_name": "venv",
   "language": "python",
   "name": "python3"
  },
  "language_info": {
   "codemirror_mode": {
    "name": "ipython",
    "version": 3
   },
   "file_extension": ".py",
   "mimetype": "text/x-python",
   "name": "python",
   "nbconvert_exporter": "python",
   "pygments_lexer": "ipython3",
   "version": "3.11.3"
  },
  "orig_nbformat": 4
 },
 "nbformat": 4,
 "nbformat_minor": 2
}
