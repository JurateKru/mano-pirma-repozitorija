{
 "cells": [
  {
   "cell_type": "code",
   "execution_count": 1,
   "metadata": {},
   "outputs": [
    {
     "name": "stdout",
     "output_type": "stream",
     "text": [
      "labas\n"
     ]
    }
   ],
   "source": [
    "print(\"labas\")"
   ]
  },
  {
   "cell_type": "code",
   "execution_count": 4,
   "metadata": {},
   "outputs": [
    {
     "name": "stdout",
     "output_type": "stream",
     "text": [
      "['ledai', 'salotos', 'kava', 'bandele', 'duona']\n",
      "ledai\n",
      "kava\n",
      "duona\n"
     ]
    }
   ],
   "source": [
    "sarasas = ['ledai', 'salotos', 'kava', 'bandele', 'duona']\n",
    "print(sarasas)\n",
    "# 2 uzd\n",
    "print(sarasas[0])\n",
    "print(sarasas[2])\n",
    "print(sarasas[-1])\n"
   ]
  },
  {
   "cell_type": "code",
   "execution_count": 17,
   "metadata": {},
   "outputs": [
    {
     "name": "stdout",
     "output_type": "stream",
     "text": [
      "['ledai', 'salotos', 'kava']\n",
      "['bandele', 'duona']\n",
      "['salotos', 'kava', 'bandele']\n",
      "['ledai', 'kava', 'duona']\n"
     ]
    }
   ],
   "source": [
    "# 3 uzd\n",
    "print(sarasas[0:3])\n",
    "print(sarasas[-2:])\n",
    "print(sarasas[1:4])\n",
    "print(sarasas[::2])"
   ]
  },
  {
   "cell_type": "code",
   "execution_count": 36,
   "metadata": {},
   "outputs": [
    {
     "name": "stdout",
     "output_type": "stream",
     "text": [
      "['ledai', 'salotos', 'kava', 'bandele', 'duona', 'kriause']\n",
      "['ledai', 'salotos', 'kava', 'bananas', 'bandele', 'duona', 'kriause']\n",
      "['ledai', 'papaja', 'kava', 'bananas', 'bandele', 'duona', 'kriause']\n",
      "['papaja', 'kava', 'bananas', 'bandele', 'duona', 'kriause']\n",
      "['papaja', 'kava', 'bandele', 'duona', 'kriause']\n",
      "4\n",
      "['kriause', 'duona', 'bandele', 'kava', 'papaja']\n"
     ]
    }
   ],
   "source": [
    "# 4 uzd\n",
    "sarasas = ['ledai', 'salotos', 'kava', 'bandele', 'duona']\n",
    "sarasas.append('kriause')\n",
    "print(sarasas)\n",
    "\n",
    "sarasas.insert(3, \"bananas\")\n",
    "print(sarasas)\n",
    "\n",
    "sarasas[1] = 'papaja'\n",
    "print(sarasas)\n",
    "\n",
    "sarasas.remove('ledai')\n",
    "print(sarasas)\n",
    "\n",
    "sarasas.pop(2)\n",
    "print(sarasas)\n",
    "\n",
    "indeksas = sarasas.index('kriause')\n",
    "print(indeksas)\n",
    "\n",
    "sarasas.reverse()\n",
    "print(sarasas)"
   ]
  },
  {
   "cell_type": "code",
   "execution_count": 40,
   "metadata": {},
   "outputs": [
    {
     "name": "stdout",
     "output_type": "stream",
     "text": [
      "5\n"
     ]
    }
   ],
   "source": [
    "## 5 uzd\n",
    "print(len(sarasas))"
   ]
  },
  {
   "cell_type": "code",
   "execution_count": 39,
   "metadata": {},
   "outputs": [
    {
     "name": "stdout",
     "output_type": "stream",
     "text": [
      "True\n",
      "False\n"
     ]
    }
   ],
   "source": [
    "print('kava' in sarasas)\n",
    "print('brendis' in sarasas)"
   ]
  }
 ],
 "metadata": {
  "kernelspec": {
   "display_name": "venv",
   "language": "python",
   "name": "python3"
  },
  "language_info": {
   "codemirror_mode": {
    "name": "ipython",
    "version": 3
   },
   "file_extension": ".py",
   "mimetype": "text/x-python",
   "name": "python",
   "nbconvert_exporter": "python",
   "pygments_lexer": "ipython3",
   "version": "3.11.3"
  },
  "orig_nbformat": 4
 },
 "nbformat": 4,
 "nbformat_minor": 2
}
