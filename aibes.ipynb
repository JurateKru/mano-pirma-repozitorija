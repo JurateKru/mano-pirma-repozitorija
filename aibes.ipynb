{
 "cells": [
  {
   "cell_type": "code",
   "execution_count": 2,
   "metadata": {},
   "outputs": [
    {
     "name": "stdout",
     "output_type": "stream",
     "text": [
      "{1, 2, 3, 4, 5}\n",
      "{1, 2, 3, 5}\n"
     ]
    }
   ],
   "source": [
    "## 1\n",
    "aibe = {1, 2, 3, 4, 5}\n",
    "print(aibe)\n",
    "\n",
    "aibe.discard(4)\n",
    "print(aibe)"
   ]
  },
  {
   "cell_type": "code",
   "execution_count": 4,
   "metadata": {},
   "outputs": [
    {
     "name": "stdout",
     "output_type": "stream",
     "text": [
      "{2, 4, 5, 7, 8}\n"
     ]
    }
   ],
   "source": [
    "## 2 \n",
    "aibe2 = {2, 5, 7, 8}\n",
    "aibe2.add(4)\n",
    "print(aibe2)"
   ]
  },
  {
   "cell_type": "code",
   "execution_count": 11,
   "metadata": {},
   "outputs": [
    {
     "name": "stdout",
     "output_type": "stream",
     "text": [
      "{1, 2, 3, 5}\n",
      "{2, 4, 5, 7, 8}\n",
      "{2, 5}\n",
      "{1, 3}\n",
      "{8, 4, 7}\n"
     ]
    }
   ],
   "source": [
    "aibe3 = aibe.intersection(aibe2)\n",
    "print(aibe)\n",
    "print(aibe2)\n",
    "print(aibe3)\n",
    "aibe4 = aibe.difference(aibe2)\n",
    "print(aibe4)\n",
    "aibe5 = aibe2.difference(aibe)\n",
    "print(aibe5)"
   ]
  },
  {
   "cell_type": "code",
   "execution_count": 13,
   "metadata": {},
   "outputs": [
    {
     "name": "stdout",
     "output_type": "stream",
     "text": [
      "{8, 4, 7}\n",
      "64\n",
      "16\n",
      "49\n"
     ]
    }
   ],
   "source": [
    "print(aibe5)\n",
    "for elementas in aibe5:\n",
    "    kvadratu = elementas ** 2\n",
    "    print(kvadratu)"
   ]
  }
 ],
 "metadata": {
  "kernelspec": {
   "display_name": "venv",
   "language": "python",
   "name": "python3"
  },
  "language_info": {
   "codemirror_mode": {
    "name": "ipython",
    "version": 3
   },
   "file_extension": ".py",
   "mimetype": "text/x-python",
   "name": "python",
   "nbconvert_exporter": "python",
   "pygments_lexer": "ipython3",
   "version": "3.11.3"
  },
  "orig_nbformat": 4
 },
 "nbformat": 4,
 "nbformat_minor": 2
}
