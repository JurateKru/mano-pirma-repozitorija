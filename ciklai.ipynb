{
 "cells": [
  {
   "cell_type": "code",
   "execution_count": 6,
   "metadata": {},
   "outputs": [
    {
     "name": "stdout",
     "output_type": "stream",
     "text": [
      "raudonas\n",
      "geltonas\n",
      "mėlynas\n"
     ]
    }
   ],
   "source": [
    "## pirma uzduotis for\n",
    "\n",
    "spalvos = ['raudonas', 'geltonas', 'mėlynas']\n",
    "\n",
    "for irasas in spalvos:\n",
    "    print(irasas)"
   ]
  },
  {
   "cell_type": "code",
   "execution_count": 7,
   "metadata": {},
   "outputs": [
    {
     "name": "stdout",
     "output_type": "stream",
     "text": [
      "1 zodis yra kozis, o jo ilgis yra 5\n",
      "2 zodis yra kij, o jo ilgis yra 3\n",
      "3 zodis yra jui, o jo ilgis yra 3\n",
      "4 zodis yra kij, o jo ilgis yra 3\n",
      "5 zodis yra nm,, o jo ilgis yra 3\n"
     ]
    }
   ],
   "source": [
    "## antra uzduotis for\n",
    "\n",
    "zodziai = []\n",
    "\n",
    "for zodis in range(5):\n",
    "    zodziai.append(input('Įveskite žodį: '))\n",
    "    # print(zodziai)\n",
    "\n",
    "for indeksas, zodis in enumerate(zodziai):\n",
    "    ilgis = len(zodis)\n",
    "    print(f\"{indeksas+1} zodis yra {zodis}, o jo ilgis yra {ilgis}\")\n"
   ]
  },
  {
   "cell_type": "code",
   "execution_count": 8,
   "metadata": {},
   "outputs": [
    {
     "name": "stdout",
     "output_type": "stream",
     "text": [
      "mažas raudonas šikšnosparnis\n",
      "vidutinis raudonas šikšnosparnis\n",
      "didelis raudonas šikšnosparnis\n",
      "mažas geltonas šikšnosparnis\n",
      "vidutinis geltonas šikšnosparnis\n",
      "didelis geltonas šikšnosparnis\n",
      "mažas mėlynas šikšnosparnis\n",
      "vidutinis mėlynas šikšnosparnis\n",
      "didelis mėlynas šikšnosparnis\n"
     ]
    }
   ],
   "source": [
    "## pavyzdys  for\n",
    "\n",
    "spalvos = ['raudonas', 'geltonas', 'mėlynas']\n",
    "dydziai = ['mažas', 'vidutinis', 'didelis']\n",
    "\n",
    "for spalva in spalvos:\n",
    "    for dydis in dydziai:\n",
    "        print(dydis, spalva, 'šikšnosparnis')"
   ]
  },
  {
   "cell_type": "code",
   "execution_count": 9,
   "metadata": {},
   "outputs": [
    {
     "name": "stdout",
     "output_type": "stream",
     "text": [
      "Nekeliamieji metai\n"
     ]
    }
   ],
   "source": [
    "## trecia uzduotis for\n",
    "\n",
    "metai = int(input(\"iveskite metus\"))\n",
    "\n",
    "if (metai % 400 == 0) or (metai % 100 != 0 and metai % 4 == 0):\n",
    "    print(\"Kelaimieji metai\")\n",
    "else:\n",
    "    print(\"Nekeliamieji metai\")\n",
    "\n"
   ]
  },
  {
   "cell_type": "code",
   "execution_count": 10,
   "metadata": {},
   "outputs": [],
   "source": [
    "## ketvirta uzduotis for\n",
    "\n"
   ]
  },
  {
   "cell_type": "code",
   "execution_count": 11,
   "metadata": {},
   "outputs": [
    {
     "name": "stdout",
     "output_type": "stream",
     "text": [
      "10\n",
      "9\n",
      "8\n",
      "7\n",
      "6\n",
      "5\n",
      "4\n",
      "3\n",
      "2\n",
      "1\n",
      "0\n",
      "-1\n"
     ]
    }
   ],
   "source": [
    "## pirma uzduotis while\n",
    "\n",
    "skaicius = 10\n",
    "while skaicius >= -1:\n",
    "    print(skaicius)\n",
    "    skaicius -= 1\n",
    "    "
   ]
  },
  {
   "cell_type": "code",
   "execution_count": 12,
   "metadata": {},
   "outputs": [
    {
     "name": "stdout",
     "output_type": "stream",
     "text": [
      "4\n",
      "3\n",
      "2\n",
      "1\n",
      "pratestas\n",
      "-1\n",
      "-2\n",
      "-3\n",
      "-4\n",
      "stabdomas ciklas\n"
     ]
    }
   ],
   "source": [
    "## antra uzduotis while\n",
    "\n",
    "skaicius = 5\n",
    "while skaicius >= -10:\n",
    "    skaicius -= 1\n",
    "    if skaicius == -5:\n",
    "        print(\"stabdomas ciklas\")\n",
    "        break\n",
    "    elif skaicius == 0:\n",
    "        print(\"pratestas\")\n",
    "        continue\n",
    "    print(skaicius)\n",
    " \n"
   ]
  },
  {
   "cell_type": "code",
   "execution_count": 13,
   "metadata": {},
   "outputs": [
    {
     "name": "stdout",
     "output_type": "stream",
     "text": [
      "Jusu ivestas skaicius 152 yra teigiamas, prasau ivesti dar viena skaiciu\n",
      "Jusu ivestas skaicius 12 yra teigiamas, prasau ivesti dar viena skaiciu\n",
      "164\n"
     ]
    }
   ],
   "source": [
    "## trecia uzduotis while\n",
    "\n",
    "suma = 0\n",
    "\n",
    "while True: \n",
    "    skaicius = int(input(\"Iveskite skaiciu\"))\n",
    "    if skaicius < 0:\n",
    "        break\n",
    "    print(f'Jusu ivestas skaicius {skaicius} yra teigiamas, prasau ivesti dar viena skaiciu')\n",
    "    suma += skaicius\n",
    "print(suma)\n",
    "    \n",
    "    \n",
    "\n",
    "    "
   ]
  },
  {
   "cell_type": "code",
   "execution_count": 14,
   "metadata": {},
   "outputs": [
    {
     "name": "stdout",
     "output_type": "stream",
     "text": [
      "9\n"
     ]
    }
   ],
   "source": [
    "## pavyzdys\n",
    "\n",
    "suma = 0\n",
    "\n",
    "while True:\n",
    "    skaicius = int(input('Įveskite skaičių: '))\n",
    "    if skaicius < 0:\n",
    "        break\n",
    "    suma += skaicius\n",
    "print(suma)"
   ]
  },
  {
   "cell_type": "code",
   "execution_count": 15,
   "metadata": {},
   "outputs": [
    {
     "name": "stdout",
     "output_type": "stream",
     "text": [
      "('sausas', 'tarpas', 'marinatas', 'raudonas', 'sausas', 'marinatas')\n",
      "sausas\n",
      "marinatas\n",
      "marinatas\n",
      "('sausas', 'marinatas', 'sausas')\n",
      "2\n",
      "0\n",
      "True\n"
     ]
    }
   ],
   "source": [
    "## 1 - 2 uzd tuple\n",
    "\n",
    "sarasas = ('sausas' , 'tarpas', 'marinatas')\n",
    "sarasiukas = ('raudonas' , 'sausas' , 'marinatas')\n",
    "naujas = sarasas + sarasiukas\n",
    "print(naujas)\n",
    "\n",
    "## 3-5 uzd tuple\n",
    "\n",
    "print(naujas[0])\n",
    "print(naujas[2])\n",
    "print(naujas[-1])\n",
    "print(naujas[::2])\n",
    "print(naujas.count('sausas'))\n",
    "print(naujas.index('sausas'))\n",
    "print('raudonas' in naujas)\n"
   ]
  },
  {
   "cell_type": "code",
   "execution_count": 18,
   "metadata": {},
   "outputs": [
    {
     "name": "stdout",
     "output_type": "stream",
     "text": [
      "('sausas', 'tarpas', 'marinatas', 'raudonas', 'sausas', 'marinatas')\n",
      "marinatas\n",
      "raudonas\n",
      "tarpas\n",
      "sausas\n"
     ]
    }
   ],
   "source": [
    "## bonus\n",
    "\n",
    "print(naujas)\n",
    "unikalus = set(naujas)\n",
    "for x in unikalus:\n",
    "    print(x)"
   ]
  }
 ],
 "metadata": {
  "kernelspec": {
   "display_name": "venv",
   "language": "python",
   "name": "python3"
  },
  "language_info": {
   "codemirror_mode": {
    "name": "ipython",
    "version": 3
   },
   "file_extension": ".py",
   "mimetype": "text/x-python",
   "name": "python",
   "nbconvert_exporter": "python",
   "pygments_lexer": "ipython3",
   "version": "3.11.3"
  },
  "orig_nbformat": 4
 },
 "nbformat": 4,
 "nbformat_minor": 2
}
